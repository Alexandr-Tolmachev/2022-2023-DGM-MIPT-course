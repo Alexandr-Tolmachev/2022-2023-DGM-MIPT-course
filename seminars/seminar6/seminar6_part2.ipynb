{
 "cells": [
  {
   "cell_type": "code",
   "execution_count": 1,
   "id": "84a8d2c1-d45e-4686-a503-ed3b7a54af02",
   "metadata": {
    "slideshow": {
     "slide_type": "skip"
    }
   },
   "outputs": [],
   "source": [
    "%load_ext autoreload\n",
    "%autoreload 2"
   ]
  },
  {
   "cell_type": "code",
   "execution_count": 2,
   "id": "union-alert",
   "metadata": {
    "slideshow": {
     "slide_type": "skip"
    }
   },
   "outputs": [],
   "source": [
    "import numpy as np\n",
    "import matplotlib.pyplot as plt\n",
    "from PIL import Image\n",
    "import io\n",
    "import itertools\n",
    "import time\n",
    "from IPython.display import clear_output\n",
    "\n",
    "from sklearn.decomposition import PCA\n",
    "import scipy\n",
    "import sklearn.datasets\n",
    "from sklearn.datasets import make_moons\n",
    "from sklearn.datasets import load_digits\n",
    "\n",
    "import torch\n",
    "import torch.optim as optim\n",
    "import torch.nn as nn\n",
    "import torch.utils.data as data\n",
    "import torch.nn.functional as F\n",
    "import torch.distributions as TD\n",
    "from torchvision.utils import make_grid\n",
    "from torchvision import transforms\n",
    "\n",
    "import pickle\n",
    "import os\n",
    "import sys\n",
    "sys.path.append('../../homeworks') # to grab dgm_utils from ../../homeworks directory\n",
    "from tqdm.notebook import tqdm\n",
    "from scipy.stats import multivariate_normal\n",
    "\n",
    "if torch.cuda.is_available():\n",
    "    DEVICE = 'cuda'\n",
    "    GPU_DEVICE = 2\n",
    "    torch.cuda.set_device(GPU_DEVICE)\n",
    "else:\n",
    "    DEVICE='cpu'\n",
    "# DEVICE='cpu'\n",
    "\n",
    "import warnings\n",
    "warnings.filterwarnings('ignore')\n",
    "\n",
    "# <span style=\"color:red\"> No! </span>\n",
    "\n",
    "# dgm_utils\n",
    "from dgm_utils import train_model, show_samples, visualize_images\n",
    "from dgm_utils import visualize_2d_samples, visualize_2d_densities, visualize_2d_data\n",
    "from seminar6_utils import draw_distrib, plot_training_curves\n",
    "\n",
    "OUTPUT_SEED = 0xBADBEEF\n",
    "\n",
    "torch.manual_seed(OUTPUT_SEED)\n",
    "np.random.seed(OUTPUT_SEED)"
   ]
  },
  {
   "cell_type": "markdown",
   "id": "amber-humidity",
   "metadata": {
    "slideshow": {
     "slide_type": "slide"
    }
   },
   "source": [
    "# <center>Deep Generative Models</center>\n",
    "## <center>Seminar 6. Part 2</center>\n",
    "\n",
    "<center><img src=\"pics/mipt_logo.png\" width=600 /></center>\n",
    "<center>22.11.2022</center>\n"
   ]
  },
  {
   "cell_type": "markdown",
   "id": "e2e9bc2a-7cf1-470c-b844-2bfe58eab849",
   "metadata": {
    "slideshow": {
     "slide_type": "slide"
    }
   },
   "source": [
    "#### Digits dataset"
   ]
  },
  {
   "cell_type": "code",
   "execution_count": 3,
   "id": "376773c9-1c6a-407f-8558-b288ba032481",
   "metadata": {},
   "outputs": [],
   "source": [
    "def generate_digits_data(normalize=True):\n",
    "    digits = load_digits()\n",
    "    # print(digits)\n",
    "    data, labels = digits['data'], digits['target']\n",
    "    data = data.astype('float32')\n",
    "    if normalize:\n",
    "        data = data/16.\n",
    "        data = (data - 0.5)/0.5\n",
    "    count = len(data)\n",
    "    split = int(0.8 * count)\n",
    "    train_data, test_data = data[:split], data[split:]\n",
    "    train_labels, test_labels = labels[:split], labels[split:]\n",
    "    return train_data, train_labels, test_data, test_labels"
   ]
  },
  {
   "cell_type": "code",
   "execution_count": 4,
   "id": "24aa8c9f-9a36-4f74-adf7-3dd2d133020d",
   "metadata": {},
   "outputs": [],
   "source": [
    "train_data, train_labels, test_data, test_labels = generate_digits_data()"
   ]
  },
  {
   "cell_type": "code",
   "execution_count": 5,
   "id": "7100f8ae-2d7a-452e-865b-9e9c25459c04",
   "metadata": {},
   "outputs": [
    {
     "name": "stderr",
     "output_type": "stream",
     "text": [
      "Clipping input data to the valid range for imshow with RGB data ([0..1] for floats or [0..255] for integers).\n"
     ]
    },
    {
     "data": {
      "image/png": "[encoded data removed]",
      "text/plain": [
       "<Figure size 720x720 with 1 Axes>"
      ]
     },
     "metadata": {
      "needs_background": "light"
     },
     "output_type": "display_data"
    }
   ],
   "source": [
    "show_samples(train_data[:25].reshape(-1, 1, 8, 8), 'digits samples', figsize=(10, 10))"
   ]
  },
  {
   "cell_type": "markdown",
   "id": "3811a308-8686-4723-ade7-239fbfdec8ae",
   "metadata": {
    "slideshow": {
     "slide_type": "slide"
    }
   },
   "source": [
    "## IDF (integer discrete flows)\n",
    "\n",
    "< image credits: [https://jmtomczak.github.io/blog/5/5_IDF.html](https://jmtomczak.github.io/blog/5/5_IDF.html) >"
   ]
  },
  {
   "cell_type": "markdown",
   "id": "a49a6268-eef9-4f79-8c10-32df1a2454c0",
   "metadata": {
    "slideshow": {
     "slide_type": "fragment"
    }
   },
   "source": [
    "Recall the **Normalizing flows**:\n",
    "\n",
    "<center><img src=\"pics/flows_how2.png\" width=800 /></center>\n",
    "\n",
    "**CoV** theorem:\n",
    "\n",
    "$$\n",
    "    p(x | \\theta) = p_z(f(x)) \\left\\vert \\det \\left(\\frac{\\partial f(x, \\theta)}{\\partial x}\\Big{|}_{x = x} \\right) \\right\\vert\n",
    "$$"
   ]
  },
  {
   "cell_type": "markdown",
   "id": "8c1d90f6-1c92-4559-952a-e9227270498a",
   "metadata": {
    "slideshow": {
     "slide_type": "fragment"
    }
   },
   "source": [
    "**Pitfalls of normalizing flows**:\n",
    "\n",
    "1. Vast majority of data is discrete ($\\Rightarrow$ *Dequantization* and *Discretization* to be applied)\n",
    "\n",
    "2. $f$ must be diffeomorphism ($\\Rightarrow$ toplogical and continuity issues come into play)\n",
    "\n",
    "<center><img src=\"pics/flows_dequantization_issue.png\" width=800 /></center>\n",
    "\n",
    "3. Jacobian computation!\n",
    "\n",
    "4. We want publications!"
   ]
  },
  {
   "cell_type": "markdown",
   "id": "90e3a7a9-4fc8-4d6d-b262-832a5709c5f4",
   "metadata": {
    "slideshow": {
     "slide_type": "slide"
    }
   },
   "source": [
    "### Discrete flows"
   ]
  },
  {
   "cell_type": "markdown",
   "id": "3976704b-00c7-49e8-be6e-3045d2d9fb0a",
   "metadata": {
    "slideshow": {
     "slide_type": "fragment"
    }
   },
   "source": [
    "Let $\\boldsymbol{x} \\in \\mathcal{X}^D$, $\\mathcal{X}$ is a discrete space, e.g. $\\mathcal{X} = \\{ 0, 1 \\}$ or $\\mathcal{X} = \\mathbb{Z}$.\n",
    "\n",
    "**Change of variable** theorem:\n",
    "\n",
    "$p(\\boldsymbol{x} | \\theta) = p_z(\\boldsymbol{z} = f_{\\theta}(\\boldsymbol{x}))$ , $f : \\mathcal{X}^D \\rightarrow \\mathcal{X}^D$ is an invertible transformation."
   ]
  },
  {
   "cell_type": "markdown",
   "id": "0f710ef5-0d5a-4fd7-9993-9145dad41870",
   "metadata": {
    "slideshow": {
     "slide_type": "fragment"
    }
   },
   "source": [
    "**Question**:\n",
    "\n",
    "Let $\\mathcal{X} = \\{0, 1\\}$ and $D = 2$. What can be the transformation $f$?"
   ]
  },
  {
   "cell_type": "markdown",
   "id": "dedfb15e-0596-47e4-a168-d9868c51a8be",
   "metadata": {
    "slideshow": {
     "slide_type": "fragment"
    }
   },
   "source": [
    "**Answer**:\n",
    "\n",
    "$f$ is a *permutation* of elements in $\\{0, 1\\}^2$: \n",
    "\n",
    "<center><img src=\"pics/flow_discrete_finite.png\" width=800 /></center>\n",
    "\n",
    "**Question**:\n",
    "\n",
    "Why does this fact limits the expressibility of discrete flows on $\\{0, 1\\}^2$?"
   ]
  },
  {
   "cell_type": "markdown",
   "id": "eaf97bb5-4d22-4a25-a8ab-0214bc0d13ac",
   "metadata": {
    "slideshow": {
     "slide_type": "fragment"
    }
   },
   "source": [
    "**Answer**:\n",
    "\n",
    "The prior $p_{z}$ should be nontrivial. In general, the factrorization does not hold:\n",
    "\n",
    "$p_{z}(\\boldsymbol{z}) \\neq \\prod\\limits_{d = 1}^{2} p_{z_d}(z_d)$"
   ]
  },
  {
   "cell_type": "markdown",
   "id": "3c9492fd-ec36-4220-b639-014e64509b8e",
   "metadata": {
    "slideshow": {
     "slide_type": "fragment"
    }
   },
   "source": [
    "**Question**: What to do?"
   ]
  },
  {
   "cell_type": "markdown",
   "id": "d4f6700f-9edf-4c6c-9858-709d1cddcbb2",
   "metadata": {
    "slideshow": {
     "slide_type": "slide"
    }
   },
   "source": [
    "### IDF (integer discrete flows) \n",
    "\n",
    "link to the [IDF_article](https://arxiv.org/pdf/1905.07376.pdf)\n",
    "\n",
    "**Idea**: Model the desired distribution $\\pi(x)$ with $\\text{supp}(\\pi) = \\mathcal{X}^D$ in the **extended** space $\\mathcal{X}_{\\text{extended}}^D$, where $\\mathcal{X}_{\\text{extended}} = \\mathbb{Z}$\n",
    "\n",
    "<center><img src=\"pics/idf_transformation.png\" width=800 /></center>\n",
    "\n",
    "The latent space factorization $p_{z}(\\boldsymbol{z}) = \\prod\\limits_{d = 1}^{2} p_{z_d}(z_d)$ holds true!\n",
    "\n",
    "Lemma from the [IDF_philosophy_article](https://arxiv.org/pdf/2006.12459.pdf): \n",
    "\n",
    "<center><img src=\"pics/lemma_idf.png\" width=1000 /></center>"
   ]
  },
  {
   "cell_type": "markdown",
   "id": "529f24ca-61e4-4244-b5ea-0ea71323ee37",
   "metadata": {
    "slideshow": {
     "slide_type": "fragment"
    }
   },
   "source": [
    "**IDF** coupling:\n",
    "\n",
    "$$\n",
    "\\begin{cases}\\boldsymbol{z}_{1:d} = \\boldsymbol{x}_{1:d} \\\\ \\boldsymbol{z}_{d+1:D} = \\boldsymbol{x}_{d+1:D} + \\lfloor t_{\\theta}(\\boldsymbol{x}_{1:d}) \\rceil\\end{cases}\n",
    "$$\n",
    "\n",
    "**Question**: Can we use couplings similar to RealNVP?\n",
    "\n",
    "**Question**: How to perform gradient backprop through round operator $\\lfloor \\cdot \\rceil$\n",
    "\n",
    "**Question**: How to model factorized latent distribution $p_z(\\boldsymbol{z}) = \\prod\\limits_{d = 1}^{D} p_{z_i}(z_i)$?"
   ]
  },
  {
   "cell_type": "markdown",
   "id": "b0618f3e-5cac-4824-86a4-c054bee90fd9",
   "metadata": {
    "slideshow": {
     "slide_type": "fragment"
    }
   },
   "source": [
    "**Answers**:\n",
    "\n",
    "1. No, since RealNVP coupling has scale parameter.\n",
    "\n",
    "2. `RoundStraightThroug` (will be considered later)\n",
    "\n",
    "3. The authors of [IDF_article](https://arxiv.org/pdf/1905.07376.pdf) proposed to use discretized logistic distributions with learned $\\text{mean}$ and $\\text{scale}$ parameters:\n",
    "\n",
    "    $$p_z(\\boldsymbol{z}) = \\prod\\limits_{d = 1}^{D} \\text{DiscretizedLogistic}(z_d | \\mu_d, s_d)$$\n",
    "    \n",
    "    $$\\text{DiscretizedLogistic}(z_d | \\mu_d, s_d) = \\text{CDF}_{\\text{Logistic}}(z_d + 0.5 | \\mu_d, s_d) - \\text{CDF}_{\\text{Logistic}}(z_d - 0.5 | \\mu_d, s_d)$$\n",
    "    \n",
    "    <center><img src=\"pics/discretized_logistic.png\" width=600 /></center>\n",
    "\n",
    "    **Logistic distribution cdfs** (scaled and shifted sigmoids)\n",
    "\n",
    "    <center><img src=\"pics/Logistic_cdf.png\" width=600 /></center>"
   ]
  },
  {
   "cell_type": "markdown",
   "id": "99721e60-b031-4ec2-b310-a085c807a166",
   "metadata": {
    "slideshow": {
     "slide_type": "slide"
    }
   },
   "source": [
    "### IDF implementation"
   ]
  },
  {
   "cell_type": "code",
   "execution_count": 6,
   "id": "82aadacd-7bf9-40b0-9e8f-1204f1f8d8b7",
   "metadata": {},
   "outputs": [],
   "source": [
    "# Source: https://github.com/jornpeters/integer_discrete_flows\n",
    "class RoundStraightThrough(torch.autograd.Function):\n",
    "\n",
    "    def __init__(self):\n",
    "        super().__init__()\n",
    "\n",
    "    @staticmethod\n",
    "    def forward(ctx, input):\n",
    "        rounded = torch.round(input, out=None)\n",
    "        return rounded\n",
    "\n",
    "    @staticmethod\n",
    "    def backward(ctx, grad_output):\n",
    "        grad_input = grad_output.clone()\n",
    "        return grad_input"
   ]
  },
  {
   "cell_type": "markdown",
   "id": "150a846d-edf7-40fc-b7af-76ff7c3234d3",
   "metadata": {},
   "source": [
    "**Question**: What the difference between `sample` and `rsample` methods of a `torch.distribution`?"
   ]
  },
  {
   "cell_type": "code",
   "execution_count": 7,
   "id": "ff9f18eb-7252-4073-bd81-fd3758951fc8",
   "metadata": {},
   "outputs": [],
   "source": [
    "def Logistic(loc, scale):\n",
    "    return TD.TransformedDistribution(\n",
    "        TD.Uniform(torch.zeros_like(loc), torch.ones_like(loc)),\n",
    "        [TD.SigmoidTransform().inv, TD.AffineTransform(loc, scale)]\n",
    "    )\n",
    "\n",
    "class DiscreteLearnableLogistic(nn.Module):\n",
    "\n",
    "    @property\n",
    "    def logistic(self):\n",
    "        return Logistic(self.mean, self.scale)\n",
    "\n",
    "    @property\n",
    "    def scale(self):\n",
    "        return self.log_scale.exp()\n",
    "\n",
    "    def __init__(self, dim):\n",
    "        super().__init__()\n",
    "        self.mean = nn.Parameter(torch.zeros(dim))\n",
    "        self.log_scale = nn.Parameter(torch.ones(dim))\n",
    "        self.round = RoundStraightThrough.apply\n",
    "\n",
    "    def rsample(self, shape):\n",
    "        if isinstance(shape, int):\n",
    "            shape = (shape,)\n",
    "        cx = self.logistic.rsample(shape)\n",
    "        return self.round(cx)\n",
    "\n",
    "    def sample(self, shape):\n",
    "        if isinstance(shape, int):\n",
    "            shape = (shape,)\n",
    "        return torch.round(self.logistic.sample(shape))\n",
    "\n",
    "    def log_prob(self, x):\n",
    "        logistic = self.logistic\n",
    "        F_X_plus = logistic.cdf(x + 0.5) # (bs, dim)\n",
    "        F_X_minus = logistic.cdf(x - 0.5) # (bs, dim)\n",
    "        return torch.log(F_X_plus - F_X_minus)\n"
   ]
  },
  {
   "cell_type": "code",
   "execution_count": 9,
   "id": "528ff987-7fd2-4bfd-9276-2c88769fa71b",
   "metadata": {},
   "outputs": [],
   "source": [
    "from seminar6_utils import FullyConnectedMLP\n",
    "\n",
    "class DicreteCouplingLayer(nn.Module):\n",
    "\n",
    "    def __init__(self, parity_type, n_hiddens, dim):\n",
    "        assert isinstance(parity_type, bool)\n",
    "        assert isinstance(n_hiddens, list)\n",
    "        super().__init__()\n",
    "        self.parity_type = parity_type\n",
    "        self.dim = dim\n",
    "        self.round = RoundStraightThrough.apply\n",
    "        mlp_dim = dim // 2 if parity_type else dim - (dim // 2)\n",
    "        self.mlp = FullyConnectedMLP(\n",
    "            input_shape=mlp_dim, \n",
    "            hiddens=n_hiddens, \n",
    "            output_shape=mlp_dim)\n",
    "\n",
    "    def forward(self, x, invert=False):\n",
    "        if self.parity_type:\n",
    "            x = x.flip(1)\n",
    "\n",
    "        (xa, xb) = torch.chunk(x, 2, 1)\n",
    "\n",
    "        if invert:\n",
    "            yb = xb - self.round(self.mlp(xa))\n",
    "        else:\n",
    "            yb = xb + self.round(self.mlp(xa))\n",
    "\n",
    "        x = torch.cat((xa, yb), 1)\n",
    "        if self.parity_type:\n",
    "            x = x.flip(1)\n",
    "        return x\n",
    "\n",
    "class IDF(nn.Module):\n",
    "\n",
    "    def __init__(self, hiddens, num_flows, dim):\n",
    "        super(IDF, self).__init__()\n",
    "\n",
    "        self.transforms = nn.ModuleList(\n",
    "            [DicreteCouplingLayer(i // 2 == 0, hiddens, dim) for i in range(num_flows)])\n",
    "\n",
    "        self.num_flows = num_flows\n",
    "        self.dim = dim\n",
    "        self.prior = DiscreteLearnableLogistic(dim)\n",
    "\n",
    "    def forward(self, x, invert=False):\n",
    "        z = x\n",
    "        transforms = reversed(self.transforms) if invert else self.transforms\n",
    "        for transform in transforms:\n",
    "            z = transform(z, invert=invert)\n",
    "        return z\n",
    "\n",
    "    def log_prob(self, x):\n",
    "        z = self.forward(x, invert = False)\n",
    "        log_probs = self.prior.log_prob(z).sum(-1)\n",
    "        assert log_probs.size(0) == z.size(0)\n",
    "        return log_probs\n",
    "\n",
    "    def loss(self, x):\n",
    "        log_prob = self.log_prob(x)\n",
    "        # log_prob should be a vector of batch_size\n",
    "        assert len(log_prob.shape) == 1\n",
    "        return {'nll_loss': - log_prob.mean()}\n",
    "\n",
    "    def sample(self, batchSize):\n",
    "        # sample z:\n",
    "        z = self.prior.sample(batchSize)\n",
    "        x = self.forward(z, invert=True)\n",
    "        return x"
   ]
  },
  {
   "cell_type": "code",
   "execution_count": 10,
   "id": "93484bb2-060f-42d6-9107-53fcd8dac5ba",
   "metadata": {},
   "outputs": [
    {
     "data": {
      "image/png": "[encoded data removed]",
      "text/plain": [
       "<Figure size 720x720 with 1 Axes>"
      ]
     },
     "metadata": {
      "needs_background": "light"
     },
     "output_type": "display_data"
    }
   ],
   "source": [
    "train_data, train_labels, test_data, test_labels = generate_digits_data(normalize=False)\n",
    "\n",
    "show_samples(train_data[:25].reshape(-1,1, 8, 8)/16., 'digits samples', figsize=(10, 10))"
   ]
  },
  {
   "cell_type": "code",
   "execution_count": 11,
   "id": "c1e0eb81-d2e7-481d-8dbb-0379764311e0",
   "metadata": {},
   "outputs": [],
   "source": [
    "OUTPUT_SEED = 0xBADBEEF\n",
    "\n",
    "torch.manual_seed(OUTPUT_SEED)\n",
    "np.random.seed(OUTPUT_SEED)"
   ]
  },
  {
   "cell_type": "code",
   "execution_count": 12,
   "id": "e962e633",
   "metadata": {},
   "outputs": [],
   "source": [
    "USE_CUDA=True"
   ]
  },
  {
   "cell_type": "code",
   "execution_count": 13,
   "id": "7de4a47c-826b-4d0a-8e95-65e560a3a550",
   "metadata": {},
   "outputs": [
    {
     "data": {
      "application/vnd.jupyter.widget-view+json": {
       "model_id": "9d0ad99bd80b45a9b147a7bcf2f86f38",
       "version_major": 2,
       "version_minor": 0
      },
      "text/plain": [
       "  0%|          | 0/400 [00:00<?, ?it/s]"
      ]
     },
     "metadata": {},
     "output_type": "display_data"
    },
    {
     "data": {
      "image/png": "[encoded data removed]",
      "text/plain": [
       "<Figure size 432x288 with 1 Axes>"
      ]
     },
     "metadata": {
      "needs_background": "light"
     },
     "output_type": "display_data"
    }
   ],
   "source": [
    "BATCH_SIZE = 1024 # any adequate value\n",
    "EPOCHS = 400\n",
    "LR = 1e-3\n",
    "\n",
    "NUM_FLOWS = 12\n",
    "DIM = 64\n",
    "\n",
    "\n",
    "loader_args = dict(batch_size=BATCH_SIZE, shuffle=True)\n",
    "train_loader = data.DataLoader(train_data, **loader_args)\n",
    "test_loader = data.DataLoader(test_data, **loader_args)\n",
    "\n",
    "# model\n",
    "model = IDF([128, 128], NUM_FLOWS, DIM).to(DEVICE)\n",
    "\n",
    "# train\n",
    "train_losses, test_losses = train_model(\n",
    "    model, train_loader, test_loader, epochs=EPOCHS, lr=LR, loss_key='nll_loss', use_cuda=USE_CUDA, use_tqdm=True\n",
    ")\n",
    "plot_training_curves(train_losses, test_losses)"
   ]
  },
  {
   "cell_type": "code",
   "execution_count": 14,
   "id": "b1a46dab-1625-4666-b44f-e269fd77699c",
   "metadata": {},
   "outputs": [
    {
     "data": {
      "image/png": "[encoded data removed]",
      "text/plain": [
       "<Figure size 720x720 with 1 Axes>"
      ]
     },
     "metadata": {
      "needs_background": "light"
     },
     "output_type": "display_data"
    }
   ],
   "source": [
    "x = model.sample(25).detach().cpu().numpy()\n",
    "x = x.clip(0., 16.)/16.\n",
    "show_samples(x.reshape(-1, 1, 8, 8), 'digits samples', figsize=(10, 10))"
   ]
  },
  {
   "cell_type": "code",
   "execution_count": null,
   "id": "784f2002-a5a2-4c16-bc51-8d79780e5bce",
   "metadata": {},
   "outputs": [],
   "source": []
  }
 ],
 "metadata": {
  "celltoolbar": "Слайд-шоу",
  "kernelspec": {
   "display_name": "Python 3 (ipykernel)",
   "language": "python",
   "name": "python3"
  },
  "language_info": {
   "codemirror_mode": {
    "name": "ipython",
    "version": 3
   },
   "file_extension": ".py",
   "mimetype": "text/x-python",
   "name": "python",
   "nbconvert_exporter": "python",
   "pygments_lexer": "ipython3",
   "version": "3.8.12"
  },
  "rise": {
   "theme": "sky"
  },
  "toc-autonumbering": false,
  "toc-showcode": false
 },
 "nbformat": 4,
 "nbformat_minor": 5
}
